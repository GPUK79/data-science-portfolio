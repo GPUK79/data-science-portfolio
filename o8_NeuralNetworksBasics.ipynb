{
 "cells": [
  {
   "cell_type": "code",
   "execution_count": 1,
   "metadata": {},
   "outputs": [],
   "source": [
    "##############################################################################\n",
    "#                           NN - BASICS\n",
    "##############################################################################\n",
    "\n",
    "########## TABLE OF CONTENTS #############\n",
    "# 1. DATA READ IN\n",
    "# 2. DATA QUALITY CHECK\n",
    "# 3. PRE MODEL TRAINING\n",
    "# 4. MODEL TRAINING\n",
    "################################################################################\n",
    "\n",
    "# Visualization\n",
    "import matplotlib as mpl   \n",
    "import matplotlib.pyplot as plt\n",
    "import pandas as pd\n",
    "\n",
    "# Building the network \n",
    "import numpy as np\n",
    "\n",
    "# Progress Bar\n",
    "import tqdm as tqdm\n",
    "\n",
    "import warnings\n",
    "warnings.filterwarnings(\"ignore\") #supresses warnings"
   ]
  },
  {
   "cell_type": "markdown",
   "metadata": {},
   "source": [
    "1. DATA READ IN"
   ]
  },
  {
   "cell_type": "code",
   "execution_count": 13,
   "metadata": {},
   "outputs": [
    {
     "name": "stdout",
     "output_type": "stream",
     "text": [
      "Train vs Test sample\n",
      "TrainTestFlag\n",
      "0    231\n",
      "1    231\n",
      "Name: count, dtype: int64\n",
      "\n",
      "chd\n",
      "0    302\n",
      "1    160\n",
      "Name: count, dtype: int64\n",
      "\n",
      "<class 'pandas.core.frame.DataFrame'>\n",
      "Index: 462 entries, 1 to 463\n",
      "Data columns (total 11 columns):\n",
      " #   Column         Non-Null Count  Dtype  \n",
      "---  ------         --------------  -----  \n",
      " 0   sbp            462 non-null    int64  \n",
      " 1   tobacco        462 non-null    float64\n",
      " 2   ldl            462 non-null    float64\n",
      " 3   adiposity      462 non-null    float64\n",
      " 4   famhist        462 non-null    object \n",
      " 5   typea          462 non-null    int64  \n",
      " 6   obesity        462 non-null    float64\n",
      " 7   alcohol        462 non-null    float64\n",
      " 8   age            462 non-null    int64  \n",
      " 9   chd            462 non-null    int64  \n",
      " 10  TrainTestFlag  462 non-null    int64  \n",
      "dtypes: float64(5), int64(5), object(1)\n",
      "memory usage: 43.3+ KB\n"
     ]
    }
   ],
   "source": [
    "df = pd.read_csv(\"Heart.txt\", index_col=0)\n",
    "df\n",
    "\n",
    "df['TrainTestFlag'] = 0\n",
    "df.iloc[pd.Series(df.index).sample(frac=0.5, random_state=1234), df.columns.get_loc('TrainTestFlag')] = 1\n",
    "print(\"Train vs Test sample\")\n",
    "print(df['TrainTestFlag'].value_counts())\n",
    "print(\"\")\n",
    "print(df['chd'].value_counts())\n",
    "print(\"\")\n",
    "df.shape\n",
    "df.info()\n",
    "\n",
    "\n",
    "# sbp\t\tsystolic blood pressure\n",
    "# tobacco\tcumulative tobacco (kg)\n",
    "# ldl\t\tlow densiity lipoprotein cholesterol\n",
    "# adiposity\n",
    "# famhist\tfamily history of heart disease (Present, Absent)\n",
    "# typea\t\ttype-A behavior\n",
    "# obesity\n",
    "# alcohol\tcurrent alcohol consumption\n",
    "# age\t\tage at onset\n",
    "# chd\t\tresponse, coronary heart disease  -> TARGET VARIABLE"
   ]
  },
  {
   "cell_type": "markdown",
   "metadata": {},
   "source": [
    "2. DATA _PREPARATION"
   ]
  },
  {
   "cell_type": "code",
   "execution_count": 14,
   "metadata": {},
   "outputs": [],
   "source": [
    "df['familiarity'] = np.where(df['famhist'] == \"Absent\",0,np.where(df['famhist'] == \"Present\",1,-1))\n",
    "\n",
    "df = df.drop(columns=['famhist'], axis=1)\n",
    "X_train = df.drop('chd', inplace=False, axis=1) #remove 'target' column from input features\n",
    "y_train = df['chd'] #stores target (1 or 0) in a separate array\n",
    "\n",
    "#since we shuffled, the index numbers were messed up, this resets them\n",
    "X_train = X_train.reset_index(drop=True) \n",
    "y_train = y_train.reset_index(drop=True)\n",
    "\n",
    "#convert to numpy arrays with float values\n",
    "X_train = np.array(X_train, dtype=float)\n",
    "y_train = np.array(y_train, dtype=float)\n",
    "\n",
    "#reshape y_train to make matrix multiplication possible\n",
    "y_train = np.array(y_train).reshape(-1, 1)"
   ]
  },
  {
   "cell_type": "markdown",
   "metadata": {},
   "source": [
    "3. PRE MODEL TRAINING"
   ]
  },
  {
   "cell_type": "code",
   "execution_count": 15,
   "metadata": {},
   "outputs": [],
   "source": [
    "class Perceptron:\n",
    "    def __init__(self, x, y):\n",
    "\n",
    "        self.input = np.array(x, dtype=float) \n",
    "        self.label = np.array(y, dtype=float)\n",
    "        self.weights = np.random.rand(x.shape[1], y.shape[1]) #randomly initialize the weights\n",
    "        self.z = self.input@self.weights #dot product of the vectors\n",
    "        self.yhat = self.sigmoid(self.z) #apply activation function\n",
    "\n",
    "    \n",
    "    def sigmoid(self, x):\n",
    "        return 1.0/(1.0+np.exp(-x))\n",
    "\n",
    "    def sigmoid_deriv(self, x):\n",
    "        s = sigmoid(x)\n",
    "        return s(1-s)\n",
    "\n",
    "    def forward_prop(self):\n",
    "        self.yhat = self.sigmoid(self.input @ self.weights) #@ symbol represents matrix multiplication (also works for vectors)\n",
    "        return self.yhat\n",
    "\n",
    "    def back_prop(self):\n",
    "        gradient = self.input.T @ (-2.0*(self.label - self.yhat)*self.sigmoid(self.yhat))  #self.input is the x value\n",
    "\n",
    "        self.weights -= gradient #process of finding the minimum loss"
   ]
  },
  {
   "cell_type": "markdown",
   "metadata": {},
   "source": [
    "4. MODEL TRAINING"
   ]
  },
  {
   "cell_type": "code",
   "execution_count": 16,
   "metadata": {},
   "outputs": [
    {
     "name": "stdout",
     "output_type": "stream",
     "text": [
      "Final Mean Squared Error: [0.48484848]\n"
     ]
    },
    {
     "data": {
      "text/plain": [
       "Text(0.5, 0, 'Training Iteration')"
      ]
     },
     "execution_count": 16,
     "metadata": {},
     "output_type": "execute_result"
    },
    {
     "data": {
      "image/png": "[encoded data removed]",
      "text/plain": [
       "<Figure size 640x480 with 1 Axes>"
      ]
     },
     "metadata": {},
     "output_type": "display_data"
    }
   ],
   "source": [
    "simple_nn = Perceptron(X_train, y_train)\n",
    "training_iterations = 1000\n",
    "\n",
    "history = [] #we will store how the mean squared error changes after each iteration in this array\n",
    "\n",
    "def mse(yhat, y):\n",
    "    sum = 0.0\n",
    "    for pred, label in zip(yhat, y):\n",
    "        sum += (pred-label)**2\n",
    "    return sum/len(yhat)\n",
    "\n",
    "for i in range(training_iterations):\n",
    "    simple_nn.forward_prop()\n",
    "    simple_nn.back_prop()\n",
    "    yhat = simple_nn.forward_prop()\n",
    "    history.append(mse(yhat, simple_nn.label))\n",
    "\n",
    "    \n",
    "    \n",
    "yhat = simple_nn.forward_prop()\n",
    "\n",
    "\n",
    "\n",
    "\n",
    "print(f'Final Mean Squared Error: {mse(yhat, simple_nn.label)}')\n",
    "\n",
    "plt.plot(history)\n",
    "plt.ylabel('Mean Squared Error')\n",
    "plt.xlabel('Training Iteration')"
   ]
  }
 ],
 "metadata": {
  "kernelspec": {
   "display_name": "Python 3",
   "language": "python",
   "name": "python3"
  },
  "language_info": {
   "codemirror_mode": {
    "name": "ipython",
    "version": 3
   },
   "file_extension": ".py",
   "mimetype": "text/x-python",
   "name": "python",
   "nbconvert_exporter": "python",
   "pygments_lexer": "ipython3",
   "version": "3.11.9"
  }
 },
 "nbformat": 4,
 "nbformat_minor": 2
}
