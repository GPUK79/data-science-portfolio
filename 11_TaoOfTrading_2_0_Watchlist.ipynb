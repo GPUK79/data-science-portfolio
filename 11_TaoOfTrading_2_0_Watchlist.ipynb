{
 "cells": [
  {
   "cell_type": "code",
   "execution_count": null,
   "metadata": {},
   "outputs": [
    {
     "ename": "KeyboardInterrupt",
     "evalue": "",
     "output_type": "error",
     "traceback": [
      "\u001b[1;31m---------------------------------------------------------------------------\u001b[0m",
      "\u001b[1;31mKeyboardInterrupt\u001b[0m                         Traceback (most recent call last)",
      "Cell \u001b[1;32mIn[1], line 1\u001b[0m\n\u001b[1;32m----> 1\u001b[0m \u001b[38;5;28;01mfrom\u001b[39;00m \u001b[38;5;21;01mModules\u001b[39;00m \u001b[38;5;28;01mimport\u001b[39;00m \u001b[38;5;241m*\u001b[39m\n\u001b[0;32m      2\u001b[0m \u001b[38;5;28;01mimport\u001b[39;00m \u001b[38;5;21;01mdatetime\u001b[39;00m\n\u001b[0;32m      3\u001b[0m \u001b[38;5;28;01mimport\u001b[39;00m \u001b[38;5;21;01mtime\u001b[39;00m\n",
      "File \u001b[1;32mc:\\Users\\levor\\Documents\\the-elements-of-statistical-learning\\Modules.py:13\u001b[0m\n\u001b[0;32m     10\u001b[0m \u001b[38;5;28;01mimport\u001b[39;00m \u001b[38;5;21;01mre\u001b[39;00m\n\u001b[0;32m     11\u001b[0m \u001b[38;5;28;01mimport\u001b[39;00m \u001b[38;5;21;01mmatplotlib\u001b[39;00m\u001b[38;5;21;01m.\u001b[39;00m\u001b[38;5;21;01mpyplot\u001b[39;00m \u001b[38;5;28;01mas\u001b[39;00m \u001b[38;5;21;01mplt\u001b[39;00m \n\u001b[1;32m---> 13\u001b[0m \u001b[38;5;28;01mimport\u001b[39;00m \u001b[38;5;21;01mseaborn\u001b[39;00m \u001b[38;5;28;01mas\u001b[39;00m \u001b[38;5;21;01msns\u001b[39;00m\n\u001b[0;32m     15\u001b[0m \u001b[38;5;28;01mimport\u001b[39;00m \u001b[38;5;21;01mscipy\u001b[39;00m \n\u001b[0;32m     16\u001b[0m \u001b[38;5;28;01mfrom\u001b[39;00m \u001b[38;5;21;01mscipy\u001b[39;00m \u001b[38;5;28;01mimport\u001b[39;00m stats \n",
      "File \u001b[1;32mc:\\Users\\levor\\Documents\\the-elements-of-statistical-learning\\.conda\\Lib\\site-packages\\seaborn\\__init__.py:5\u001b[0m\n\u001b[0;32m      3\u001b[0m \u001b[38;5;28;01mfrom\u001b[39;00m \u001b[38;5;21;01m.\u001b[39;00m\u001b[38;5;21;01mutils\u001b[39;00m \u001b[38;5;28;01mimport\u001b[39;00m \u001b[38;5;241m*\u001b[39m  \u001b[38;5;66;03m# noqa: F401,F403\u001b[39;00m\n\u001b[0;32m      4\u001b[0m \u001b[38;5;28;01mfrom\u001b[39;00m \u001b[38;5;21;01m.\u001b[39;00m\u001b[38;5;21;01mpalettes\u001b[39;00m \u001b[38;5;28;01mimport\u001b[39;00m \u001b[38;5;241m*\u001b[39m  \u001b[38;5;66;03m# noqa: F401,F403\u001b[39;00m\n\u001b[1;32m----> 5\u001b[0m \u001b[38;5;28;01mfrom\u001b[39;00m \u001b[38;5;21;01m.\u001b[39;00m\u001b[38;5;21;01mrelational\u001b[39;00m \u001b[38;5;28;01mimport\u001b[39;00m \u001b[38;5;241m*\u001b[39m  \u001b[38;5;66;03m# noqa: F401,F403\u001b[39;00m\n\u001b[0;32m      6\u001b[0m \u001b[38;5;28;01mfrom\u001b[39;00m \u001b[38;5;21;01m.\u001b[39;00m\u001b[38;5;21;01mregression\u001b[39;00m \u001b[38;5;28;01mimport\u001b[39;00m \u001b[38;5;241m*\u001b[39m  \u001b[38;5;66;03m# noqa: F401,F403\u001b[39;00m\n\u001b[0;32m      7\u001b[0m \u001b[38;5;28;01mfrom\u001b[39;00m \u001b[38;5;21;01m.\u001b[39;00m\u001b[38;5;21;01mcategorical\u001b[39;00m \u001b[38;5;28;01mimport\u001b[39;00m \u001b[38;5;241m*\u001b[39m  \u001b[38;5;66;03m# noqa: F401,F403\u001b[39;00m\n",
      "File \u001b[1;32mc:\\Users\\levor\\Documents\\the-elements-of-statistical-learning\\.conda\\Lib\\site-packages\\seaborn\\relational.py:17\u001b[0m\n\u001b[0;32m      8\u001b[0m \u001b[38;5;28;01mfrom\u001b[39;00m \u001b[38;5;21;01m.\u001b[39;00m\u001b[38;5;21;01m_oldcore\u001b[39;00m \u001b[38;5;28;01mimport\u001b[39;00m (\n\u001b[0;32m      9\u001b[0m     VectorPlotter,\n\u001b[0;32m     10\u001b[0m )\n\u001b[0;32m     11\u001b[0m \u001b[38;5;28;01mfrom\u001b[39;00m \u001b[38;5;21;01m.\u001b[39;00m\u001b[38;5;21;01mutils\u001b[39;00m \u001b[38;5;28;01mimport\u001b[39;00m (\n\u001b[0;32m     12\u001b[0m     locator_to_legend_entries,\n\u001b[0;32m     13\u001b[0m     adjust_legend_subtitles,\n\u001b[0;32m     14\u001b[0m     _default_color,\n\u001b[0;32m     15\u001b[0m     _deprecate_ci,\n\u001b[0;32m     16\u001b[0m )\n\u001b[1;32m---> 17\u001b[0m \u001b[38;5;28;01mfrom\u001b[39;00m \u001b[38;5;21;01m.\u001b[39;00m\u001b[38;5;21;01m_statistics\u001b[39;00m \u001b[38;5;28;01mimport\u001b[39;00m EstimateAggregator\n\u001b[0;32m     18\u001b[0m \u001b[38;5;28;01mfrom\u001b[39;00m \u001b[38;5;21;01m.\u001b[39;00m\u001b[38;5;21;01maxisgrid\u001b[39;00m \u001b[38;5;28;01mimport\u001b[39;00m FacetGrid, _facet_docs\n\u001b[0;32m     19\u001b[0m \u001b[38;5;28;01mfrom\u001b[39;00m \u001b[38;5;21;01m.\u001b[39;00m\u001b[38;5;21;01m_docstrings\u001b[39;00m \u001b[38;5;28;01mimport\u001b[39;00m DocstringComponents, _core_docs\n",
      "File \u001b[1;32mc:\\Users\\levor\\Documents\\the-elements-of-statistical-learning\\.conda\\Lib\\site-packages\\seaborn\\_statistics.py:31\u001b[0m\n\u001b[0;32m     29\u001b[0m \u001b[38;5;28;01mimport\u001b[39;00m \u001b[38;5;21;01mpandas\u001b[39;00m \u001b[38;5;28;01mas\u001b[39;00m \u001b[38;5;21;01mpd\u001b[39;00m\n\u001b[0;32m     30\u001b[0m \u001b[38;5;28;01mtry\u001b[39;00m:\n\u001b[1;32m---> 31\u001b[0m     \u001b[38;5;28;01mfrom\u001b[39;00m \u001b[38;5;21;01mscipy\u001b[39;00m\u001b[38;5;21;01m.\u001b[39;00m\u001b[38;5;21;01mstats\u001b[39;00m \u001b[38;5;28;01mimport\u001b[39;00m gaussian_kde\n\u001b[0;32m     32\u001b[0m     _no_scipy \u001b[38;5;241m=\u001b[39m \u001b[38;5;28;01mFalse\u001b[39;00m\n\u001b[0;32m     33\u001b[0m \u001b[38;5;28;01mexcept\u001b[39;00m \u001b[38;5;167;01mImportError\u001b[39;00m:\n",
      "File \u001b[1;32mc:\\Users\\levor\\Documents\\the-elements-of-statistical-learning\\.conda\\Lib\\site-packages\\scipy\\stats\\__init__.py:605\u001b[0m\n\u001b[0;32m      1\u001b[0m \u001b[38;5;124;03m\"\"\"\u001b[39;00m\n\u001b[0;32m      2\u001b[0m \u001b[38;5;124;03m.. _statsrefmanual:\u001b[39;00m\n\u001b[0;32m      3\u001b[0m \n\u001b[1;32m   (...)\u001b[0m\n\u001b[0;32m    600\u001b[0m \n\u001b[0;32m    601\u001b[0m \u001b[38;5;124;03m\"\"\"\u001b[39;00m  \u001b[38;5;66;03m# noqa: E501\u001b[39;00m\n\u001b[0;32m    603\u001b[0m \u001b[38;5;28;01mfrom\u001b[39;00m \u001b[38;5;21;01m.\u001b[39;00m\u001b[38;5;21;01m_warnings_errors\u001b[39;00m \u001b[38;5;28;01mimport\u001b[39;00m (ConstantInputWarning, NearConstantInputWarning,\n\u001b[0;32m    604\u001b[0m                                DegenerateDataWarning, FitError)\n\u001b[1;32m--> 605\u001b[0m \u001b[38;5;28;01mfrom\u001b[39;00m \u001b[38;5;21;01m.\u001b[39;00m\u001b[38;5;21;01m_stats_py\u001b[39;00m \u001b[38;5;28;01mimport\u001b[39;00m \u001b[38;5;241m*\u001b[39m\n\u001b[0;32m    606\u001b[0m \u001b[38;5;28;01mfrom\u001b[39;00m \u001b[38;5;21;01m.\u001b[39;00m\u001b[38;5;21;01m_variation\u001b[39;00m \u001b[38;5;28;01mimport\u001b[39;00m variation\n\u001b[0;32m    607\u001b[0m \u001b[38;5;28;01mfrom\u001b[39;00m \u001b[38;5;21;01m.\u001b[39;00m\u001b[38;5;21;01mdistributions\u001b[39;00m \u001b[38;5;28;01mimport\u001b[39;00m \u001b[38;5;241m*\u001b[39m\n",
      "File \u001b[1;32mc:\\Users\\levor\\Documents\\the-elements-of-statistical-learning\\.conda\\Lib\\site-packages\\scipy\\stats\\_stats_py.py:37\u001b[0m\n\u001b[0;32m     34\u001b[0m \u001b[38;5;28;01mimport\u001b[39;00m \u001b[38;5;21;01mnumpy\u001b[39;00m \u001b[38;5;28;01mas\u001b[39;00m \u001b[38;5;21;01mnp\u001b[39;00m\n\u001b[0;32m     35\u001b[0m \u001b[38;5;28;01mfrom\u001b[39;00m \u001b[38;5;21;01mnumpy\u001b[39;00m \u001b[38;5;28;01mimport\u001b[39;00m array, asarray, ma\n\u001b[1;32m---> 37\u001b[0m \u001b[38;5;28;01mfrom\u001b[39;00m \u001b[38;5;21;01mscipy\u001b[39;00m\u001b[38;5;21;01m.\u001b[39;00m\u001b[38;5;21;01mspatial\u001b[39;00m\u001b[38;5;21;01m.\u001b[39;00m\u001b[38;5;21;01mdistance\u001b[39;00m \u001b[38;5;28;01mimport\u001b[39;00m cdist\n\u001b[0;32m     38\u001b[0m \u001b[38;5;28;01mfrom\u001b[39;00m \u001b[38;5;21;01mscipy\u001b[39;00m\u001b[38;5;21;01m.\u001b[39;00m\u001b[38;5;21;01mndimage\u001b[39;00m \u001b[38;5;28;01mimport\u001b[39;00m _measurements\n\u001b[0;32m     39\u001b[0m \u001b[38;5;28;01mfrom\u001b[39;00m \u001b[38;5;21;01mscipy\u001b[39;00m\u001b[38;5;21;01m.\u001b[39;00m\u001b[38;5;21;01m_lib\u001b[39;00m\u001b[38;5;21;01m.\u001b[39;00m\u001b[38;5;21;01m_util\u001b[39;00m \u001b[38;5;28;01mimport\u001b[39;00m (check_random_state, MapWrapper, _get_nan,\n\u001b[0;32m     40\u001b[0m                               rng_integers, _rename_parameter, _contains_nan,\n\u001b[0;32m     41\u001b[0m                               AxisError)\n",
      "File \u001b[1;32mc:\\Users\\levor\\Documents\\the-elements-of-statistical-learning\\.conda\\Lib\\site-packages\\scipy\\spatial\\__init__.py:116\u001b[0m\n\u001b[0;32m    114\u001b[0m \u001b[38;5;28;01mfrom\u001b[39;00m \u001b[38;5;21;01m.\u001b[39;00m\u001b[38;5;21;01m_plotutils\u001b[39;00m \u001b[38;5;28;01mimport\u001b[39;00m \u001b[38;5;241m*\u001b[39m\n\u001b[0;32m    115\u001b[0m \u001b[38;5;28;01mfrom\u001b[39;00m \u001b[38;5;21;01m.\u001b[39;00m\u001b[38;5;21;01m_procrustes\u001b[39;00m \u001b[38;5;28;01mimport\u001b[39;00m procrustes\n\u001b[1;32m--> 116\u001b[0m \u001b[38;5;28;01mfrom\u001b[39;00m \u001b[38;5;21;01m.\u001b[39;00m\u001b[38;5;21;01m_geometric_slerp\u001b[39;00m \u001b[38;5;28;01mimport\u001b[39;00m geometric_slerp\n\u001b[0;32m    118\u001b[0m \u001b[38;5;66;03m# Deprecated namespaces, to be removed in v2.0.0\u001b[39;00m\n\u001b[0;32m    119\u001b[0m \u001b[38;5;28;01mfrom\u001b[39;00m \u001b[38;5;21;01m.\u001b[39;00m \u001b[38;5;28;01mimport\u001b[39;00m ckdtree, kdtree, qhull\n",
      "File \u001b[1;32mc:\\Users\\levor\\Documents\\the-elements-of-statistical-learning\\.conda\\Lib\\site-packages\\scipy\\spatial\\_geometric_slerp.py:9\u001b[0m\n\u001b[0;32m      6\u001b[0m \u001b[38;5;28;01mfrom\u001b[39;00m \u001b[38;5;21;01mtyping\u001b[39;00m \u001b[38;5;28;01mimport\u001b[39;00m TYPE_CHECKING\n\u001b[0;32m      8\u001b[0m \u001b[38;5;28;01mimport\u001b[39;00m \u001b[38;5;21;01mnumpy\u001b[39;00m \u001b[38;5;28;01mas\u001b[39;00m \u001b[38;5;21;01mnp\u001b[39;00m\n\u001b[1;32m----> 9\u001b[0m \u001b[38;5;28;01mfrom\u001b[39;00m \u001b[38;5;21;01mscipy\u001b[39;00m\u001b[38;5;21;01m.\u001b[39;00m\u001b[38;5;21;01mspatial\u001b[39;00m\u001b[38;5;21;01m.\u001b[39;00m\u001b[38;5;21;01mdistance\u001b[39;00m \u001b[38;5;28;01mimport\u001b[39;00m euclidean\n\u001b[0;32m     11\u001b[0m \u001b[38;5;28;01mif\u001b[39;00m TYPE_CHECKING:\n\u001b[0;32m     12\u001b[0m     \u001b[38;5;28;01mimport\u001b[39;00m \u001b[38;5;21;01mnumpy\u001b[39;00m\u001b[38;5;21;01m.\u001b[39;00m\u001b[38;5;21;01mtyping\u001b[39;00m \u001b[38;5;28;01mas\u001b[39;00m \u001b[38;5;21;01mnpt\u001b[39;00m\n",
      "File \u001b[1;32mc:\\Users\\levor\\Documents\\the-elements-of-statistical-learning\\.conda\\Lib\\site-packages\\scipy\\spatial\\distance.py:121\u001b[0m\n\u001b[0;32m    119\u001b[0m \u001b[38;5;28;01mfrom\u001b[39;00m \u001b[38;5;21;01m.\u001b[39;00m \u001b[38;5;28;01mimport\u001b[39;00m _hausdorff\n\u001b[0;32m    120\u001b[0m \u001b[38;5;28;01mfrom\u001b[39;00m \u001b[38;5;21;01m.\u001b[39;00m\u001b[38;5;21;01m.\u001b[39;00m\u001b[38;5;21;01mlinalg\u001b[39;00m \u001b[38;5;28;01mimport\u001b[39;00m norm\n\u001b[1;32m--> 121\u001b[0m \u001b[38;5;28;01mfrom\u001b[39;00m \u001b[38;5;21;01m.\u001b[39;00m\u001b[38;5;21;01m.\u001b[39;00m\u001b[38;5;21;01mspecial\u001b[39;00m \u001b[38;5;28;01mimport\u001b[39;00m rel_entr\n\u001b[0;32m    123\u001b[0m \u001b[38;5;28;01mfrom\u001b[39;00m \u001b[38;5;21;01m.\u001b[39;00m \u001b[38;5;28;01mimport\u001b[39;00m _distance_pybind\n\u001b[0;32m    126\u001b[0m \u001b[38;5;28;01mdef\u001b[39;00m \u001b[38;5;21m_copy_array_if_base_present\u001b[39m(a):\n",
      "File \u001b[1;32mc:\\Users\\levor\\Documents\\the-elements-of-statistical-learning\\.conda\\Lib\\site-packages\\scipy\\special\\__init__.py:785\u001b[0m\n\u001b[0;32m    780\u001b[0m \u001b[38;5;66;03m# Replace some function definitions from _ufuncs to add Array API support\u001b[39;00m\n\u001b[0;32m    781\u001b[0m \u001b[38;5;28;01mfrom\u001b[39;00m \u001b[38;5;21;01m.\u001b[39;00m\u001b[38;5;21;01m_support_alternative_backends\u001b[39;00m \u001b[38;5;28;01mimport\u001b[39;00m (\n\u001b[0;32m    782\u001b[0m     log_ndtr, ndtr, ndtri, erf, erfc, i0, i0e, i1, i1e,\n\u001b[0;32m    783\u001b[0m     gammaln, gammainc, gammaincc, logit, expit)\n\u001b[1;32m--> 785\u001b[0m \u001b[38;5;28;01mfrom\u001b[39;00m \u001b[38;5;21;01m.\u001b[39;00m \u001b[38;5;28;01mimport\u001b[39;00m _basic\n\u001b[0;32m    786\u001b[0m \u001b[38;5;28;01mfrom\u001b[39;00m \u001b[38;5;21;01m.\u001b[39;00m\u001b[38;5;21;01m_basic\u001b[39;00m \u001b[38;5;28;01mimport\u001b[39;00m \u001b[38;5;241m*\u001b[39m\n\u001b[0;32m    788\u001b[0m \u001b[38;5;28;01mfrom\u001b[39;00m \u001b[38;5;21;01m.\u001b[39;00m\u001b[38;5;21;01m_logsumexp\u001b[39;00m \u001b[38;5;28;01mimport\u001b[39;00m logsumexp, softmax, log_softmax\n",
      "File \u001b[1;32mc:\\Users\\levor\\Documents\\the-elements-of-statistical-learning\\.conda\\Lib\\site-packages\\scipy\\special\\_basic.py:18\u001b[0m\n\u001b[0;32m     14\u001b[0m \u001b[38;5;28;01mfrom\u001b[39;00m \u001b[38;5;21;01m.\u001b[39;00m \u001b[38;5;28;01mimport\u001b[39;00m _ufuncs\n\u001b[0;32m     15\u001b[0m \u001b[38;5;28;01mfrom\u001b[39;00m \u001b[38;5;21;01m.\u001b[39;00m\u001b[38;5;21;01m_ufuncs\u001b[39;00m \u001b[38;5;28;01mimport\u001b[39;00m (mathieu_a, mathieu_b, iv, jv, gamma,\n\u001b[0;32m     16\u001b[0m                       psi, hankel1, hankel2, yv, kv, poch, binom,\n\u001b[0;32m     17\u001b[0m                       _stirling2_inexact)\n\u001b[1;32m---> 18\u001b[0m \u001b[38;5;28;01mfrom\u001b[39;00m \u001b[38;5;21;01m.\u001b[39;00m \u001b[38;5;28;01mimport\u001b[39;00m _specfun\n\u001b[0;32m     19\u001b[0m \u001b[38;5;28;01mfrom\u001b[39;00m \u001b[38;5;21;01m.\u001b[39;00m\u001b[38;5;21;01m_comb\u001b[39;00m \u001b[38;5;28;01mimport\u001b[39;00m _comb_int\n\u001b[0;32m     20\u001b[0m \u001b[38;5;28;01mfrom\u001b[39;00m \u001b[38;5;21;01mscipy\u001b[39;00m\u001b[38;5;21;01m.\u001b[39;00m\u001b[38;5;21;01m_lib\u001b[39;00m\u001b[38;5;21;01m.\u001b[39;00m\u001b[38;5;21;01mdeprecation\u001b[39;00m \u001b[38;5;28;01mimport\u001b[39;00m _NoValue, _deprecate_positional_args\n",
      "\u001b[1;31mKeyboardInterrupt\u001b[0m: "
     ]
    }
   ],
   "source": [
    "from Modules import *\n",
    "import datetime\n",
    "import time\n",
    "\n",
    "def download_with_date_range(ticker, start_date, end_date, interval=\"1d\"):\n",
    "    \"\"\"\n",
    "    Download stock data with specific date range\n",
    "    \n",
    "    Parameters:\n",
    "    ticker (str): Stock ticker symbol\n",
    "    start_date (str): Start date in format 'YYYY-MM-DD'\n",
    "    end_date (str): End date in format 'YYYY-MM-DD'\n",
    "    interval (str): Data interval\n",
    "    \n",
    "    Returns:\n",
    "    pandas.DataFrame: Stock data\n",
    "    \"\"\"\n",
    "    try:\n",
    "        stock = yf.Ticker(ticker)\n",
    "        data = stock.history(start=start_date, end=end_date, interval=interval)\n",
    "        data = data.reset_index()\n",
    "        data = data.drop(columns=['Dividends','Stock Splits'],axis=1)\n",
    "        return data\n",
    "    except Exception as e:\n",
    "        print(f\"Error downloading data: {e}\")\n",
    "        return None\n",
    "    \n",
    "\n",
    "def wwma(values, n):\n",
    "    \"\"\"\n",
    "     J. Welles Wilder's EMA \n",
    "    \"\"\"\n",
    "    return values.ewm(alpha=1/n, adjust=False).mean()\n",
    "\n",
    "def atr(data, n=20):\n",
    "    # data = df.copy()\n",
    "    high = data[\"High\"]\n",
    "    low = data[\"Low\"]\n",
    "    close = data[\"Close\"]\n",
    "    data['tr0'] = abs(high - low)\n",
    "    data['tr1'] = abs(high - close.shift())\n",
    "    data['tr2'] = abs(low - close.shift())\n",
    "    tr = data[['tr0', 'tr1', 'tr2']].max(axis=1)\n",
    "    atr = wwma(tr, n)\n",
    "    data['atr'] = atr\n",
    "    \n",
    "    data = data.drop(columns=['tr0','tr1','tr2'], axis=1)\n",
    "    \n",
    "    return data"
   ]
  },
  {
   "cell_type": "markdown",
   "metadata": {},
   "source": [
    "Filter stocks"
   ]
  },
  {
   "cell_type": "code",
   "execution_count": null,
   "metadata": {},
   "outputs": [
    {
     "name": "stdout",
     "output_type": "stream",
     "text": [
      "[Info] loading page [##############################] 81/82 \r"
     ]
    },
    {
     "data": {
      "text/html": [
       "<div>\n",
       "<style scoped>\n",
       "    .dataframe tbody tr th:only-of-type {\n",
       "        vertical-align: middle;\n",
       "    }\n",
       "\n",
       "    .dataframe tbody tr th {\n",
       "        vertical-align: top;\n",
       "    }\n",
       "\n",
       "    .dataframe thead th {\n",
       "        text-align: right;\n",
       "    }\n",
       "</style>\n",
       "<table border=\"1\" class=\"dataframe\">\n",
       "  <thead>\n",
       "    <tr style=\"text-align: right;\">\n",
       "      <th></th>\n",
       "      <th>Ticker</th>\n",
       "      <th>Company</th>\n",
       "      <th>Sector</th>\n",
       "      <th>Industry</th>\n",
       "      <th>Country</th>\n",
       "      <th>Market Cap</th>\n",
       "      <th>P/E</th>\n",
       "      <th>Price</th>\n",
       "      <th>Change</th>\n",
       "      <th>Volume</th>\n",
       "    </tr>\n",
       "  </thead>\n",
       "  <tbody>\n",
       "    <tr>\n",
       "      <th>0</th>\n",
       "      <td>A</td>\n",
       "      <td>Agilent Technologies Inc</td>\n",
       "      <td>Healthcare</td>\n",
       "      <td>Diagnostics &amp; Research</td>\n",
       "      <td>USA</td>\n",
       "      <td>4.135000e+10</td>\n",
       "      <td>34.20</td>\n",
       "      <td>145.85</td>\n",
       "      <td>-0.0050</td>\n",
       "      <td>1470057.0</td>\n",
       "    </tr>\n",
       "    <tr>\n",
       "      <th>1</th>\n",
       "      <td>AA</td>\n",
       "      <td>Alcoa Corp</td>\n",
       "      <td>Basic Materials</td>\n",
       "      <td>Aluminum</td>\n",
       "      <td>USA</td>\n",
       "      <td>1.018000e+10</td>\n",
       "      <td>8.95</td>\n",
       "      <td>39.31</td>\n",
       "      <td>-0.0148</td>\n",
       "      <td>6057081.0</td>\n",
       "    </tr>\n",
       "    <tr>\n",
       "      <th>2</th>\n",
       "      <td>AAL</td>\n",
       "      <td>American Airlines Group Inc</td>\n",
       "      <td>Industrials</td>\n",
       "      <td>Airlines</td>\n",
       "      <td>USA</td>\n",
       "      <td>8.390000e+09</td>\n",
       "      <td>15.28</td>\n",
       "      <td>12.71</td>\n",
       "      <td>-0.0522</td>\n",
       "      <td>53514473.0</td>\n",
       "    </tr>\n",
       "    <tr>\n",
       "      <th>3</th>\n",
       "      <td>AAOI</td>\n",
       "      <td>Applied Optoelectronics Inc</td>\n",
       "      <td>Technology</td>\n",
       "      <td>Communication Equipment</td>\n",
       "      <td>USA</td>\n",
       "      <td>2.300000e+09</td>\n",
       "      <td>NaN</td>\n",
       "      <td>36.87</td>\n",
       "      <td>-0.0094</td>\n",
       "      <td>5298958.0</td>\n",
       "    </tr>\n",
       "    <tr>\n",
       "      <th>4</th>\n",
       "      <td>AAON</td>\n",
       "      <td>AAON Inc</td>\n",
       "      <td>Industrials</td>\n",
       "      <td>Building Products &amp; Equipment</td>\n",
       "      <td>USA</td>\n",
       "      <td>8.430000e+09</td>\n",
       "      <td>70.45</td>\n",
       "      <td>103.34</td>\n",
       "      <td>-0.0155</td>\n",
       "      <td>594991.0</td>\n",
       "    </tr>\n",
       "  </tbody>\n",
       "</table>\n",
       "</div>"
      ],
      "text/plain": [
       "  Ticker                      Company           Sector  \\\n",
       "0      A     Agilent Technologies Inc       Healthcare   \n",
       "1     AA                   Alcoa Corp  Basic Materials   \n",
       "2    AAL  American Airlines Group Inc      Industrials   \n",
       "3   AAOI  Applied Optoelectronics Inc       Technology   \n",
       "4   AAON                     AAON Inc      Industrials   \n",
       "\n",
       "                        Industry Country    Market Cap    P/E   Price  Change  \\\n",
       "0         Diagnostics & Research     USA  4.135000e+10  34.20  145.85 -0.0050   \n",
       "1                       Aluminum     USA  1.018000e+10   8.95   39.31 -0.0148   \n",
       "2                       Airlines     USA  8.390000e+09  15.28   12.71 -0.0522   \n",
       "3        Communication Equipment     USA  2.300000e+09    NaN   36.87 -0.0094   \n",
       "4  Building Products & Equipment     USA  8.430000e+09  70.45  103.34 -0.0155   \n",
       "\n",
       "       Volume  \n",
       "0   1470057.0  \n",
       "1   6057081.0  \n",
       "2  53514473.0  \n",
       "3   5298958.0  \n",
       "4    594991.0  "
      ]
     },
     "execution_count": 2,
     "metadata": {},
     "output_type": "execute_result"
    }
   ],
   "source": [
    "from finvizfinance.screener.overview import Overview\n",
    "foverview = Overview()\n",
    "filters_dict = {'Market Cap.':'+Mid (over $2bln)', 'Average Volume' : 'Over 500K'}\n",
    "foverview.set_filter(filters_dict=filters_dict)\n",
    "df = foverview.screener_view()\n",
    "df.head()"
   ]
  },
  {
   "cell_type": "markdown",
   "metadata": {},
   "source": [
    "Create list of Stocks"
   ]
  },
  {
   "cell_type": "code",
   "execution_count": null,
   "metadata": {},
   "outputs": [
    {
     "name": "stdout",
     "output_type": "stream",
     "text": [
      "['A', 'AA', 'AAL', 'AAOI', 'AAON', 'AAP', 'AAPL', 'ABBV', 'ABEV', 'ABM', 'ABNB', 'ABR', 'ABT', 'ABTC', 'ABVX', 'ACAD', 'ACGL', 'ACHC', 'ACHR', 'ACI', 'ACIW', 'ACLS', 'ACLX', 'ACM', 'ACMR', 'ACN', 'ADBE', 'ADC', 'ADI', 'ADM', 'ADMA', 'ADP', 'ADPT', 'ADSK', 'ADT', 'AEE', 'AEG', 'AEM', 'AEO', 'AEP', 'AER', 'AES', 'AFL', 'AFRM', 'AG', 'AGCO', 'AGI', 'AGIO', 'AGNC', 'AHL', 'AHR', 'AI', 'AIG', 'AJG', 'AKAM', 'AKR', 'AKRO', 'AL', 'ALAB', 'ALB', 'ALC', 'ALE', 'ALGM', 'ALGN', 'ALH', 'ALHC', 'ALK', 'ALKS', 'ALKT', 'ALL', 'ALLE', 'ALLY', 'ALNY', 'ALSN', 'ALV', 'AM', 'AMAT', 'AMBA', 'AMBP', 'AMCR', 'AMD', 'AME', 'AMGN', 'AMH', 'AMKR', 'AMRC', 'AMRX', 'AMRZ', 'AMSC', 'AMT', 'AMTM', 'AMX', 'AMZN', 'ANET', 'ANF', 'AON', 'AOS', 'APA', 'APD', 'APG', 'APGE', 'APH', 'APLD', 'APLE', 'APLS', 'APO', 'APP', 'APPN', 'APTV', 'AQN', 'AR', 'ARCC', 'ARE', 'ARES', 'ARLO', 'ARM', 'ARMK', 'AROC', 'ARQT', 'ARW', 'ARWR', 'ARX', 'AS', 'ASAN', 'ASB', 'ASH', 'ASML', 'ASO', 'ASTS', 'ASX', 'ATAT', 'ATEC', 'ATI', 'ATKR', 'ATMU', 'ATO', 'AU', 'AUB', 'AUR', 'AVA', 'AVAH', 'AVAV', 'AVB', 'AVGO', 'AVNT', 'AVPT', 'AVT', 'AVTR', 'AVY', 'AWK', 'AXON', 'AXP', 'AXS', 'AXSM', 'AXTA', 'AZN', 'B', 'BA', 'BABA', 'BAC', 'BAH', 'BALL', 'BAM', 'BANC', 'BAX', 'BB', 'BBAI', 'BBAR', 'BBD', 'BBIO', 'BBT', 'BBVA', 'BBWI', 'BBY', 'BC', 'BCE', 'BCS', 'BDX', 'BE', 'BEAM', 'BEKE', 'BEN', 'BEP', 'BEPC', 'BF-B', 'BFAM', 'BFH', 'BG', 'BGC', 'BHC', 'BHF', 'BHP', 'BIDU', 'BIIB', 'BILI', 'BILL', 'BIP', 'BIPC', 'BIRK', 'BITF', 'BJ', 'BK', 'BKD', 'BKE', 'BKH', 'BKR', 'BKU', 'BL', 'BLCO', 'BLDR', 'BLK', 'BLSH', 'BMA', 'BMNR', 'BMO', 'BMRN', 'BMY', 'BN', 'BNL', 'BNS', 'BNTX', 'BOOT', 'BOX', 'BP', 'BPOP', 'BR', 'BRBR', 'BRK-B', 'BRKR', 'BRO', 'BROS', 'BRSL', 'BRX', 'BRZE', 'BSBR', 'BSX', 'BSY', 'BTDR', 'BTG', 'BTI', 'BTSG', 'BTU', 'BUD', 'BULL', 'BUR', 'BURL', 'BVN', 'BWA', 'BWIN', 'BWXT', 'BX', 'BXMT', 'BXP', 'BXSL', 'BYD', 'BZ', 'C', 'CADE', 'CAE', 'CAG', 'CAH', 'CAI', 'CAKE', 'CALM', 'CALX', 'CAR', 'CARG', 'CARR', 'CART', 'CAT', 'CAVA', 'CB', 'CBOE', 'CBRE', 'CBSH', 'CBZ', 'CC', 'CCCS', 'CCEP', 'CCI', 'CCJ', 'CCK', 'CCL', 'CCOI', 'CDE', 'CDNS', 'CDP', 'CDTX', 'CDW', 'CE', 'CEF', 'CEG', 'CELC', 'CELH', 'CENX', 'CF', 'CFG', 'CFLT', 'CG', 'CGAU', 'CGNX', 'CGON', 'CHD', 'CHDN', 'CHKP', 'CHRD', 'CHRW', 'CHTR', 'CHWY', 'CHYM', 'CI', 'CIEN', 'CIFR', 'CIG', 'CINF', 'CIVI', 'CL', 'CLBT', 'CLF', 'CLM', 'CLS', 'CLSK', 'CLVT', 'CLX', 'CM', 'CMA', 'CMBT', 'CMC', 'CMCSA', 'CME', 'CMG', 'CMI', 'CMPO', 'CMS', 'CNC', 'CNH', 'CNI', 'CNK', 'CNM', 'CNO', 'CNP', 'CNQ', 'CNR', 'CNTA', 'CNX', 'CNXC', 'COCO', 'COF', 'COGT', 'COHR', 'COIN', 'COKE', 'COLB', 'COLD', 'COLM', 'COMM', 'COMP', 'CON', 'COO', 'COP', 'COR', 'CORT', 'CORZ', 'COST', 'COTY', 'CP', 'CPB', 'CPNG', 'CPRI', 'CPRT', 'CPRX', 'CPT', 'CRBG', 'CRC', 'CRCL', 'CRDO', 'CRGY', 'CRH', 'CRK', 'CRL', 'CRM', 'CRNX', 'CROX', 'CRS', 'CRSP', 'CRUS', 'CRWD', 'CRWV', 'CSAN', 'CSCO', 'CSGP', 'CSL', 'CSTM', 'CSX', 'CTAS', 'CTRA', 'CTRE', 'CTSH', 'CTVA', 'CUBE', 'CUK', 'CURB', 'CUZ', 'CVBF', 'CVE', 'CVI', 'CVLT', 'CVNA', 'CVS', 'CVX', 'CWAN', 'CWEN', 'CWK', 'CWST', 'CX', 'CYBR', 'CYTK', 'CZR', 'D', 'DAL', 'DAN', 'DAR', 'DASH', 'DAY', 'DB', 'DBRG', 'DBX', 'DCI', 'DD', 'DDOG', 'DE', 'DECK', 'DEI', 'DELL', 'DEO', 'DG', 'DGNX', 'DGX', 'DHI', 'DHR', 'DHT', 'DINO', 'DIS', 'DJT', 'DK', 'DKNG', 'DKS', 'DLO', 'DLR', 'DLTR', 'DNLI', 'DNN', 'DNP', 'DOC', 'DOCN', 'DOCS', 'DOCU', 'DOV', 'DOW', 'DOX', 'DPZ', 'DRD', 'DRI', 'DRS', 'DRVN', 'DT', 'DTE', 'DTM', 'DUK', 'DUOL', 'DVA', 'DVN', 'DXC', 'DXCM', 'DYN', 'EA', 'EAT', 'EBAY', 'EBC', 'EBR', 'EC', 'ECG', 'ECL', 'ED', 'EDU', 'EEFT', 'EFX', 'EGO', 'EHC', 'EIX', 'EL', 'ELAN', 'ELF', 'ELS', 'ELV', 'EME', 'EMN', 'EMR', 'ENB', 'ENPH', 'ENTG', 'ENVX', 'EOG', 'EOSE', 'EPAM', 'EPD', 'EPR', 'EPRT', 'EQH', 'EQNR', 'EQR', 'EQT', 'EQX', 'ERIC', 'ERJ', 'ERO', 'ES', 'ESI', 'ESNT', 'ESTC', 'ET', 'ETN', 'ETNB', 'ETOR', 'ETR', 'ETSY', 'EVRG', 'EW', 'EWBC', 'EXAS', 'EXC', 'EXE', 'EXEL', 'EXK', 'EXLS', 'EXPD', 'EXPE', 'EXR', 'EXTR', 'EYE', 'F', 'FA', 'FAF', 'FANG', 'FAST', 'FBIN', 'FBP', 'FCPT', 'FCX', 'FDS', 'FDX', 'FE', 'FER', 'FERG', 'FFIN', 'FFIV', 'FHB', 'FHI', 'FHN', 'FI', 'FIBK', 'FIG', 'FIS', 'FITB', 'FIVE', 'FLEX', 'FLG', 'FLNC', 'FLO', 'FLR', 'FLS', 'FLUT', 'FLY', 'FMC', 'FMX', 'FN', 'FNB', 'FND', 'FNF', 'FNV', 'FOLD', 'FORM', 'FOUR', 'FOX', 'FOXA', 'FR', 'FRMI', 'FRO', 'FROG', 'FRPT', 'FRSH', 'FRT', 'FSK', 'FSLR', 'FSM', 'FSS', 'FTAI', 'FTDR', 'FTI', 'FTNT', 'FTS', 'FTV', 'FULT', 'FUN', 'FUTU', 'FWONK', 'FYBR', 'G', 'GAP', 'GBCI', 'GBDC', 'GBTG', 'GCMG', 'GD', 'GDDY', 'GDS', 'GE', 'GEHC', 'GEMI', 'GEN', 'GENI', 'GEO', 'GEV', 'GFI', 'GFL', 'GFS', 'GGAL', 'GGB', 'GGG', 'GH', 'GIL', 'GILD', 'GIS', 'GKOS', 'GL', 'GLBE', 'GLNG', 'GLOB', 'GLPI', 'GLW', 'GLXY', 'GM', 'GMAB', 'GME', 'GMED', 'GNRC', 'GNTX', 'GNW', 'GOF', 'GOOG', 'GOOGL', 'GPC', 'GPK', 'GPN', 'GRAB', 'GRAL', 'GRFS', 'GRMN', 'GRND', 'GS', 'GSAT', 'GSK', 'GT', 'GTES', 'GTLB', 'GTLS', 'GTM', 'GTX', 'GVA', 'GWRE', 'GXO', 'H', 'HAE', 'HAFN', 'HAL', 'HALO', 'HAS', 'HASI', 'HAYW', 'HBAN', 'HBI', 'HBM', 'HCA', 'HCC', 'HD', 'HDB', 'HESM', 'HGV', 'HI', 'HIG', 'HIMS', 'HIW', 'HL', 'HLN', 'HLT', 'HMC', 'HMY', 'HNGE', 'HNI', 'HOG', 'HOLX', 'HOMB', 'HON', 'HOOD', 'HP', 'HPE', 'HPQ', 'HQY', 'HR', 'HRB', 'HRL', 'HSAI', 'HSBC', 'HSIC', 'HST', 'HSY', 'HTFL', 'HTGC', 'HTHT', 'HUBB', 'HUBG', 'HUBS', 'HUM', 'HUT', 'HWC', 'HWM', 'HXL', 'IAC', 'IAG', 'IBKR', 'IBM', 'IBN', 'IBRX', 'ICE', 'ICL', 'ICLR', 'IDXX', 'IDYA', 'IE', 'IEP', 'IEX', 'IFF', 'IHS', 'ILMN', 'IMVT', 'INCY', 'INDV', 'INFA', 'INFY', 'ING', 'INGR', 'INOD', 'INSM', 'INSP', 'INSW', 'INTA', 'INTC', 'INTR', 'INTU', 'INVH', 'IONQ', 'IONS', 'IOT', 'IP', 'IPG', 'IQV', 'IR', 'IREN', 'IRM', 'IRT', 'ISRG', 'IT', 'ITGR', 'ITRI', 'ITUB', 'ITW', 'IVZ', 'J', 'JAZZ', 'JBHT', 'JBL', 'JBS', 'JBTM', 'JCI', 'JD', 'JEF', 'JHG', 'JHX', 'JKHY', 'JNJ', 'JOBY', 'JPC', 'JPM', 'JXN', 'K', 'KAR', 'KBH', 'KBR', 'KC', 'KD', 'KDP', 'KEX', 'KEY', 'KEYS', 'KGC', 'KGS', 'KHC', 'KIM', 'KKR', 'KLAC', 'KLAR', 'KLIC', 'KMB', 'KMI', 'KMPR', 'KMX', 'KN', 'KNF', 'KNSA', 'KNTK', 'KNX', 'KO', 'KR', 'KRC', 'KRG', 'KRMN', 'KSPI', 'KT', 'KTB', 'KTOS', 'KVUE', 'KVYO', 'KYMR', 'L', 'LAMR', 'LAUR', 'LAZ', 'LBRDK', 'LBRT', 'LBTYA', 'LBTYK', 'LC', 'LCID', 'LDOS', 'LEA', 'LEGN', 'LEN', 'LEU', 'LEVI', 'LH', 'LHX', 'LI', 'LIF', 'LIN', 'LINE', 'LITE', 'LIVN', 'LKQ', 'LLY', 'LMND', 'LMT', 'LNC', 'LNG', 'LNT', 'LNTH', 'LNW', 'LOAR', 'LOGI', 'LOW', 'LPL', 'LPLA', 'LPX', 'LRCX', 'LRN', 'LSCC', 'LTH', 'LTM', 'LU', 'LULU', 'LUMN', 'LUNR', 'LUV', 'LVS', 'LW', 'LXP', 'LYB', 'LYFT', 'LYG', 'LYV', 'M', 'MA', 'MAA', 'MAC', 'MAIN', 'MANH', 'MAR', 'MARA', 'MAS', 'MASI', 'MAT', 'MBLY', 'MC', 'MCD', 'MCHP', 'MCK', 'MCO', 'MDB', 'MDLZ', 'MDT', 'MDU', 'MET', 'META', 'MFC', 'MFG', 'MGA', 'MGM', 'MGNI', 'MGY', 'MH', 'MHK', 'MIAX', 'MIDD', 'MIR', 'MIRM', 'MKC', 'MKSI', 'MKTX', 'MLCO', 'MLI', 'MLYS', 'MMC', 'MMM', 'MMS', 'MMSI', 'MMYT', 'MNDY', 'MNSO', 'MNST', 'MO', 'MOD', 'MOH', 'MOS', 'MP', 'MPC', 'MPLX', 'MPW', 'MPWR', 'MQ', 'MRCY', 'MRK', 'MRNA', 'MRP', 'MRUS', 'MRVL', 'MRX', 'MS', 'MSCI', 'MSFT', 'MSI', 'MSM', 'MSTR', 'MT', 'MTB', 'MTCH', 'MTDR', 'MTG', 'MTH', 'MTN', 'MTSI', 'MTSR', 'MTZ', 'MU', 'MUFG', 'MUR', 'MWA', 'NAD', 'NAMS', 'NATL', 'NBIS', 'NBIX', 'NCLH', 'NCNO', 'NDAQ', 'NE', 'NEA', 'NEE', 'NEM', 'NET', 'NFG', 'NFLX', 'NG', 'NGD', 'NGG', 'NI', 'NICE', 'NIO', 'NIQ', 'NJR', 'NKE', 'NLY', 'NMR', 'NMRK', 'NNE', 'NNN', 'NOC', 'NOG', 'NOK', 'NOV', 'NOW', 'NP', 'NRG', 'NSA', 'NSC', 'NTAP', 'NTES', 'NTNX', 'NTR', 'NTRA', 'NTRS', 'NTSK', 'NU', 'NUE', 'NVDA', 'NVG', 'NVO', 'NVS', 'NVST', 'NVT', 'NVTS', 'NWG', 'NWL', 'NWS', 'NWSA', 'NXE', 'NXPI', 'NXT', 'NYT', 'NZF', 'O', 'OBDC', 'OC', 'OCUL', 'ODD', 'ODFL', 'OGE', 'OHI', 'OII', 'OKE', 'OKLO', 'OKTA', 'OLED', 'OLLI', 'OLN', 'OMC', 'OMF', 'ON', 'ONB', 'ONDS', 'ONON', 'ONTO', 'OPCH', 'OPEN', 'OR', 'ORA', 'ORCL', 'ORI', 'ORLA', 'ORLY', 'OS', 'OSCR', 'OSK', 'OSW', 'OTEX', 'OTIS', 'OUT', 'OVV', 'OWL', 'OXY', 'OZK', 'PAA', 'PAAS', 'PAGP', 'PAGS', 'PANW', 'PARR', 'PATH', 'PAX', 'PAY', 'PAYC', 'PAYO', 'PAYX', 'PB', 'PBA', 'PBF', 'PBH', 'PBI', 'PBR', 'PBR-A', 'PCAR', 'PCG', 'PCH', 'PCOR', 'PCT', 'PCTY', 'PCVX', 'PDD', 'PDI', 'PECO', 'PEG', 'PEGA', 'PENN', 'PEP', 'PFE', 'PFG', 'PFGC', 'PFS', 'PG', 'PGR', 'PGY', 'PH', 'PHG', 'PHM', 'PHYS', 'PI', 'PII', 'PINC', 'PINS', 'PK', 'PKG', 'PL', 'PLD', 'PLNT', 'PLTR', 'PLUG', 'PM', 'PNC', 'PNFP', 'PNR', 'PNW', 'PODD', 'PONY', 'POOL', 'POR', 'POST', 'POWI', 'PPC', 'PPG', 'PPL', 'PPTA', 'PR', 'PRAX', 'PRCT', 'PRDO', 'PRGO', 'PRIM', 'PRKS', 'PRM', 'PRMB', 'PRU', 'PRVA', 'PSA', 'PSKY', 'PSLV', 'PSN', 'PSO', 'PSTG', 'PSX', 'PTC', 'PTCT', 'PTEN', 'PTGX', 'PTON', 'PTY', 'PUK', 'PVH', 'PWR', 'PYPL', 'QBTS', 'QCOM', 'QFIN', 'QGEN', 'QRVO', 'QS', 'QSR', 'QTWO', 'QUBT', 'QURE', 'QXO', 'RACE', 'RAL', 'RARE', 'RBA', 'RBLX', 'RBRK', 'RCI', 'RCL', 'RCUS', 'RDDT', 'RDN', 'RDNT', 'RDY', 'REG', 'REGN', 'RELX', 'RELY', 'REVG', 'REXR', 'REYN', 'REZI', 'RF', 'RGEN', 'RGLD', 'RGTI', 'RH', 'RHI', 'RHP', 'RIG', 'RIO', 'RIOT', 'RITM', 'RIVN', 'RJF', 'RKLB', 'RKT', 'RL', 'RLI', 'RLX', 'RMBS', 'RMD', 'RNA', 'RNG', 'RNST', 'RNW', 'ROAD', 'ROIV', 'ROK', 'ROKU', 'ROL', 'ROP', 'ROST', 'RPM', 'RPRX', 'RRC', 'RRR', 'RRX', 'RSG', 'RSI', 'RTO', 'RTX', 'RUM', 'RUN', 'RVMD', 'RVTY', 'RXO', 'RXRX', 'RY', 'RYAAY', 'RYAN', 'RYN', 'RYTM', 'S', 'SA', 'SAIA', 'SAIL', 'SAN', 'SAND', 'SANM', 'SAP', 'SARO', 'SATS', 'SBAC', 'SBCF', 'SBET', 'SBLK', 'SBRA', 'SBS', 'SBSW', 'SBUX', 'SCCO', 'SCHW', 'SCI', 'SE', 'SEDG', 'SEE', 'SEI', 'SEIC', 'SEZL', 'SF', 'SFD', 'SFM', 'SFNC', 'SGHC', 'SGI', 'SGRY', 'SHAK', 'SHC', 'SHEL', 'SHOO', 'SHOP', 'SHW', 'SID', 'SIG', 'SIGI', 'SIRI', 'SITE', 'SJM', 'SKT', 'SKY', 'SLB', 'SLF', 'SLG', 'SLGN', 'SLM', 'SLNO', 'SM', 'SMCI', 'SMFG', 'SMG', 'SMMT', 'SMR', 'SMTC', 'SN', 'SNAP', 'SNDK', 'SNDR', 'SNEX', 'SNN', 'SNOW', 'SNPS', 'SNV', 'SNX', 'SNY', 'SO', 'SOBO', 'SOFI', 'SOLV', 'SON', 'SONO', 'SONY', 'SOUN', 'SPG', 'SPGI', 'SPHR', 'SPNS', 'SPNT', 'SPOT', 'SPR', 'SQM', 'SRAD', 'SRE', 'SRPT', 'SRRK', 'SSB', 'SSL', 'SSNC', 'SSRM', 'ST', 'STAG', 'STE', 'STEP', 'STLA', 'STLD', 'STM', 'STNE', 'STNG', 'STRC', 'STRL', 'STT', 'STWD', 'STX', 'STZ', 'SU', 'SUI', 'SUPN', 'SUZ', 'SVV', 'SW', 'SWK', 'SWKS', 'SYF', 'SYK', 'SYM', 'SYY', 'T', 'TAC', 'TAK', 'TAL', 'TAP', 'TARS', 'TBBB', 'TBBK', 'TCOM', 'TD', 'TDC', 'TDS', 'TDW', 'TEAM', 'TECH', 'TECK', 'TEF', 'TEL', 'TEM', 'TENB', 'TER', 'TEVA', 'TEX', 'TFC', 'TFPM', 'TFX', 'TGNA', 'TGS', 'TGT', 'TGTX', 'THC', 'THO', 'TIC', 'TIGO', 'TJX', 'TKC', 'TKO', 'TKR', 'TLK', 'TLN', 'TMC', 'TMDX', 'TME', 'TMHC', 'TMO', 'TMUS', 'TNK', 'TNL', 'TOL', 'TOST', 'TPC', 'TPG', 'TPH', 'TPR', 'TREX', 'TRGP', 'TRI', 'TRMB', 'TRMD', 'TRN', 'TRNO', 'TROW', 'TRP', 'TRU', 'TRV', 'TS', 'TSCO', 'TSEM', 'TSLA', 'TSM', 'TSN', 'TT', 'TTAN', 'TTC', 'TTD', 'TTE', 'TTEK', 'TTMI', 'TTWO', 'TU', 'TVTX', 'TW', 'TWLO', 'TWST', 'TXN', 'TXNM', 'TXRH', 'TXT', 'U', 'UAL', 'UBER', 'UBS', 'UBSI', 'UCB', 'UDR', 'UE', 'UEC', 'UGI', 'UGP', 'UHS', 'UL', 'ULS', 'ULTA', 'UMBF', 'UMC', 'UNFI', 'UNH', 'UNM', 'UNP', 'UPS', 'UPST', 'UPWK', 'URBN', 'URI', 'USAR', 'USB', 'USFD', 'UTHR', 'UUUU', 'UWMC', 'V', 'VAL', 'VALE', 'VCTR', 'VCYT', 'VEEV', 'VERX', 'VFC', 'VFS', 'VG', 'VIAV', 'VICI', 'VIK', 'VIPS', 'VIRT', 'VIST', 'VIV', 'VKTX', 'VLO', 'VLTO', 'VLY', 'VMC', 'VNET', 'VNO', 'VNOM', 'VNT', 'VOD', 'VOYA', 'VRDN', 'VRNS', 'VRRM', 'VRSK', 'VRSN', 'VRT', 'VRTX', 'VSAT', 'VSCO', 'VSH', 'VST', 'VTR', 'VTRS', 'VVV', 'VZ', 'W', 'WAB', 'WAL', 'WAT', 'WAY', 'WBD', 'WBS', 'WBTN', 'WCC', 'WCN', 'WDAY', 'WDC', 'WDS', 'WEC', 'WELL', 'WES', 'WFC', 'WFRD', 'WGS', 'WH', 'WHD', 'WHR', 'WING', 'WIT', 'WIX', 'WK', 'WLK', 'WM', 'WMB', 'WMG', 'WMS', 'WMT', 'WNS', 'WPC', 'WPM', 'WRB', 'WRBY', 'WRD', 'WSBC', 'WSC', 'WSM', 'WST', 'WTRG', 'WTW', 'WU', 'WULF', 'WWD', 'WWW', 'WY', 'WYNN', 'XEL', 'XENE', 'XMTR', 'XOM', 'XP', 'XPEV', 'XPO', 'XRAY', 'XYL', 'XYZ', 'YELP', 'YETI', 'YMM', 'YOU', 'YPF', 'YUM', 'YUMC', 'Z', 'ZBH', 'ZBRA', 'ZETA', 'ZG', 'ZGN', 'ZION', 'ZK', 'ZLAB', 'ZM', 'ZS', 'ZTO', 'ZTS', 'ZWS']\n",
      "Number of Stocks:  1627\n"
     ]
    }
   ],
   "source": [
    "listOfStocks = list(np.array(df['Ticker']))\n",
    "print(listOfStocks)\n",
    "print(\"Number of Stocks: \",str(len(listOfStocks))) "
   ]
  },
  {
   "cell_type": "markdown",
   "metadata": {},
   "source": [
    "Import historic data    "
   ]
  },
  {
   "cell_type": "code",
   "execution_count": null,
   "metadata": {},
   "outputs": [
    {
     "name": "stdout",
     "output_type": "stream",
     "text": [
      "Number of Stocks:  1627\n"
     ]
    },
    {
     "name": "stderr",
     "output_type": "stream",
     "text": [
      "$BLDR: possibly delisted; no price data found  (1d 1990-01-01 -> 2025-12-31)\n"
     ]
    },
    {
     "name": "stdout",
     "output_type": "stream",
     "text": [
      "Error downloading data: \"['Dividends', 'Stock Splits'] not found in axis\"\n"
     ]
    },
    {
     "name": "stderr",
     "output_type": "stream",
     "text": [
      "$CHKP: possibly delisted; no price data found  (1d 1990-01-01 -> 2025-12-31)\n"
     ]
    },
    {
     "name": "stdout",
     "output_type": "stream",
     "text": [
      "Error downloading data: \"['Dividends', 'Stock Splits'] not found in axis\"\n"
     ]
    },
    {
     "data": {
      "text/plain": [
       "'CNH'"
      ]
     },
     "metadata": {},
     "output_type": "display_data"
    },
    {
     "data": {
      "text/plain": [
       "'EXK'"
      ]
     },
     "metadata": {},
     "output_type": "display_data"
    },
    {
     "data": {
      "text/plain": [
       "'FMC'"
      ]
     },
     "metadata": {},
     "output_type": "display_data"
    },
    {
     "data": {
      "text/plain": [
       "'HL'"
      ]
     },
     "metadata": {},
     "output_type": "display_data"
    },
    {
     "data": {
      "text/plain": [
       "'KD'"
      ]
     },
     "metadata": {},
     "output_type": "display_data"
    },
    {
     "data": {
      "text/plain": [
       "'KSPI'"
      ]
     },
     "metadata": {},
     "output_type": "display_data"
    },
    {
     "data": {
      "text/plain": [
       "'LTH'"
      ]
     },
     "metadata": {},
     "output_type": "display_data"
    },
    {
     "data": {
      "text/plain": [
       "'LYB'"
      ]
     },
     "metadata": {},
     "output_type": "display_data"
    },
    {
     "data": {
      "text/plain": [
       "'NWL'"
      ]
     },
     "metadata": {},
     "output_type": "display_data"
    }
   ],
   "source": [
    "print(\"Number of Stocks: \",str(len(listOfStocks))) \n",
    "\n",
    "for z in range(len(listOfStocks)):\n",
    "    if(z<10 | z%50==0):\n",
    "        print(z)\n",
    "    try:\n",
    "        data = download_with_date_range(listOfStocks[z],'1990-01-01','2025-12-31','1d')\n",
    "        atr(data)\n",
    "        data['ema8'] = data['Close'].ewm(span=8, adjust=False).mean()\n",
    "        data['ema21'] = data['Close'].ewm(span=21, adjust=False).mean()\n",
    "        data['ema34'] = data['Close'].ewm(span=34, adjust=False).mean()\n",
    "        data['ema55'] = data['Close'].ewm(span=55, adjust=False).mean()\n",
    "        data['ema89'] = data['Close'].ewm(span=89, adjust=False).mean()\n",
    "        data['sma50'] = data['Close'].rolling(window=50).mean()\n",
    "        data['sma100'] = data['Close'].rolling(window=100).mean()\n",
    "        data['sma200'] = data['Close'].rolling(window=200).mean()\n",
    "        data = data.drop(columns=['tr0','tr1','tr2'],axis=1)\n",
    "\n",
    "        countUpTrend = []\n",
    "        countDownTrend = []\n",
    "\n",
    "        ema8 = np.array(data['ema8'])\n",
    "        ema21 = np.array(data['ema21'])\n",
    "        ema34 = np.array(data['ema34'])\n",
    "        ema55 = np.array(data['ema55'])\n",
    "        ema89 = np.array(data['ema89'])\n",
    "\n",
    "        sma50 = np.array(data['sma50'])\n",
    "        sma100 = np.array(data['sma100'])\n",
    "        sma200 = np.array(data['sma200'])\n",
    "\n",
    "        close = np.array(data['Close'])\n",
    "\n",
    "        cumUpTrend = []\n",
    "        cumDownTrend = []\n",
    "\n",
    "        for i in range(len(data)):\n",
    "            countUpTrend.append(0)\n",
    "            countDownTrend.append(0)\n",
    "            cumUpTrend.append(0)\n",
    "            cumDownTrend.append(0)\n",
    "            if((ema8[i] > ema21[i] > ema34[i] > ema55[i] > ema89[i] > sma200[i]) & (close[i] > sma200[i])):\n",
    "                countUpTrend[i] = 1\n",
    "            else:\n",
    "                countUpTrend[i] = 0\n",
    "            if((ema8[i] < ema21[i] < ema34[i] < ema55[i] < ema89[i] < sma200[i]) & (close[i] < sma200[i])):\n",
    "                countDownTrend[i] = 1\n",
    "            else:\n",
    "                countDownTrend[i] = 0\n",
    "            \n",
    "            if((countUpTrend[i-1] == 1) & (countUpTrend[i] == 1)):\n",
    "                cumUpTrend[i] = cumUpTrend[i-1]+1\n",
    "            else:\n",
    "                cumUpTrend[i] = 0\n",
    "            \n",
    "            if((countDownTrend[i-1] == 1) & (countDownTrend[i] == 1)):\n",
    "                cumDownTrend[i] = cumDownTrend[i-1]+1\n",
    "            else:\n",
    "                cumDownTrend[i] = 0\n",
    "\n",
    "        data['cumUpTrend'] = cumUpTrend\n",
    "        data['cumDownTrend'] = cumDownTrend\n",
    "\n",
    "        import pandas_ta as ta\n",
    "\n",
    "        adx = ta.adx(data[\"High\"], data[\"Low\"], data[\"Close\"], length=13)\n",
    "        data['adx'] = list(np.array(adx['ADX_13']))\n",
    "\n",
    "\n",
    "        get_RSI(data, \"Close\", 2)\n",
    "\n",
    "        close = np.array(data['Close'])\n",
    "        high = np.array(data['High'])\n",
    "        low = np.array(data['Low'])\n",
    "        x = ta.stoch(data['High'], data['Low'], data['Close'],8, 3, 3)\n",
    "        data['K'] = x['STOCHk_8_3_3']\n",
    "        data['D'] = x['STOCHd_8_3_3']\n",
    "        data.dropna(inplace=True)\n",
    "        # display(data.tail(3))\n",
    "\n",
    "        upTrend = data['cumUpTrend'].iloc[-1]\n",
    "        downTrend = data['cumDownTrend'].iloc[-1]\n",
    "        adx = data['adx'].iloc[-1]\n",
    "        rsi_yest = data['RSI'].iloc[-2]\n",
    "        rsi_today = data['RSI'].iloc[-1]\n",
    "        slowD = data['D'].iloc[-1]\n",
    "\n",
    "\n",
    "        if((upTrend >= 40) & (adx >= 20) & (rsi_yest <= 10) & (rsi_today>10) & (slowD <= 40)):\n",
    "            display(listOfStocks[z])\n",
    "        elif((downTrend >= 20) & (adx >= 20) & (rsi_yest >= 90) & (rsi_today<90) & (slowD >= 60)):\n",
    "            display(listOfStocks[z])\n",
    "        else:\n",
    "            \"\"\n",
    "\n",
    "    except:\n",
    "        \"\""
   ]
  }
 ],
 "metadata": {
  "kernelspec": {
   "display_name": "Python 3",
   "language": "python",
   "name": "python3"
  },
  "language_info": {
   "codemirror_mode": {
    "name": "ipython",
    "version": 3
   },
   "file_extension": ".py",
   "mimetype": "text/x-python",
   "name": "python",
   "nbconvert_exporter": "python",
   "pygments_lexer": "ipython3",
   "version": "3.11.9"
  }
 },
 "nbformat": 4,
 "nbformat_minor": 2
}
